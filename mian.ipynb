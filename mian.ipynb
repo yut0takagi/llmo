{
 "cells": [
  {
   "cell_type": "code",
   "execution_count": 1,
   "id": "055b55dd",
   "metadata": {},
   "outputs": [
    {
     "name": "stdout",
     "output_type": "stream",
     "text": [
      "Hello World\n"
     ]
    }
   ],
   "source": [
    "print(\"Hello World\")"
   ]
  },
  {
   "cell_type": "code",
   "execution_count": null,
   "id": "b0d49473",
   "metadata": {},
   "outputs": [
    {
     "name": "stdout",
     "output_type": "stream",
     "text": [
      "Package                 Version\n",
      "----------------------- -----------\n",
      "annotated-types         0.7.0\n",
      "anyio                   4.9.0\n",
      "appnope                 0.1.4\n",
      "asttokens               3.0.0\n",
      "certifi                 2025.4.26\n",
      "comm                    0.2.2\n",
      "debugpy                 1.8.14\n",
      "decorator               5.2.1\n",
      "distro                  1.9.0\n",
      "executing               2.2.0\n",
      "h11                     0.16.0\n",
      "httpcore                1.0.9\n",
      "httpx                   0.28.1\n",
      "idna                    3.10\n",
      "ipykernel               6.29.5\n",
      "ipython                 9.3.0\n",
      "ipython_pygments_lexers 1.1.1\n",
      "jedi                    0.19.2\n",
      "jiter                   0.10.0\n",
      "jupyter_client          8.6.3\n",
      "jupyter_core            5.8.1\n",
      "matplotlib-inline       0.1.7\n",
      "nest-asyncio            1.6.0\n",
      "openai                  1.85.0\n",
      "packaging               25.0\n",
      "parso                   0.8.4\n",
      "pexpect                 4.9.0\n",
      "pip                     25.1.1\n",
      "platformdirs            4.3.8\n",
      "prompt_toolkit          3.0.51\n",
      "psutil                  7.0.0\n",
      "ptyprocess              0.7.0\n",
      "pure_eval               0.2.3\n",
      "pydantic                2.11.5\n",
      "pydantic_core           2.33.2\n",
      "Pygments                2.19.1\n",
      "python-dateutil         2.9.0.post0\n",
      "pyzmq                   26.4.0\n",
      "setuptools              80.4.0\n",
      "six                     1.17.0\n",
      "sniffio                 1.3.1\n",
      "stack-data              0.6.3\n",
      "tornado                 6.5.1\n",
      "tqdm                    4.67.1\n",
      "traitlets               5.14.3\n",
      "typing_extensions       4.14.0\n",
      "typing-inspection       0.4.1\n",
      "wcwidth                 0.2.13\n"
     ]
    }
   ],
   "source": []
  },
  {
   "cell_type": "code",
   "execution_count": null,
   "id": "0fb0dae3",
   "metadata": {},
   "outputs": [],
   "source": []
  }
 ],
 "metadata": {
  "kernelspec": {
   "display_name": "llmo-PKEbsX9m",
   "language": "python",
   "name": "python3"
  },
  "language_info": {
   "codemirror_mode": {
    "name": "ipython",
    "version": 3
   },
   "file_extension": ".py",
   "mimetype": "text/x-python",
   "name": "python",
   "nbconvert_exporter": "python",
   "pygments_lexer": "ipython3",
   "version": "3.11.7"
  }
 },
 "nbformat": 4,
 "nbformat_minor": 5
}
